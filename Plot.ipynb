{
 "cells": [
  {
   "cell_type": "code",
   "execution_count": 1,
   "id": "34ab37b4",
   "metadata": {},
   "outputs": [],
   "source": [
    "%run Setup.ipynb"
   ]
  },
  {
   "cell_type": "code",
   "execution_count": 2,
   "id": "2211ddfe",
   "metadata": {},
   "outputs": [],
   "source": [
    "Baseline_xgboost_svm = pd.read_csv(RESULTS_PATH+'/Baseline_xgboost_svm.csv')\n",
    "Baseline_xgboost_svm = Baseline_xgboost_svm.drop('Unnamed: 0',axis=1)"
   ]
  },
  {
   "cell_type": "code",
   "execution_count": 3,
   "id": "ff94f2b7",
   "metadata": {},
   "outputs": [],
   "source": [
    "Random_xgboost_svm_5 = pd.read_csv(RESULTS_PATH+'/Random_xgboost_svm_5.csv')\n",
    "Random_xgboost_svm_5 = Random_xgboost_svm_5.drop('Unnamed: 0',axis=1)\n",
    "\n",
    "Random_xgboost_svm_1 = pd.read_csv(RESULTS_PATH+'/Random_xgboost_svm_1.csv')\n",
    "Random_xgboost_svm_1 = Random_xgboost_svm_1.drop('Unnamed: 0',axis=1)\n",
    "\n",
    "Random_xgboost_svm_2 = pd.read_csv(RESULTS_PATH+'/Random_xgboost_svm_2.csv')\n",
    "Random_xgboost_svm_2 = Random_xgboost_svm_2.drop('Unnamed: 0',axis=1)\n",
    "\n",
    "Random_xgboost_svm_3 = pd.read_csv(RESULTS_PATH+'/Random_xgboost_svm_3.csv')\n",
    "Random_xgboost_svm_3 = Random_xgboost_svm_3.drop('Unnamed: 0',axis=1)"
   ]
  },
  {
   "cell_type": "code",
   "execution_count": 4,
   "id": "f83eeb0e",
   "metadata": {},
   "outputs": [],
   "source": [
    "tfidf_xgboost_svm_5 = pd.read_csv(RESULTS_PATH+'/tfidf_xgboost_svm_5.csv')\n",
    "tfidf_xgboost_svm_5 = tfidf_xgboost_svm_5.drop('Unnamed: 0',axis=1)\n",
    "\n",
    "tfidf_xgboost_svm_1 = pd.read_csv(RESULTS_PATH+'/tfidf_xgboost_svm_1.csv')\n",
    "tfidf_xgboost_svm_1 = tfidf_xgboost_svm_1.drop('Unnamed: 0',axis=1)\n",
    "\n",
    "tfidf_xgboost_svm_2 = pd.read_csv(RESULTS_PATH+'/tfidf_xgboost_svm_2.csv')\n",
    "tfidf_xgboost_svm_2 = tfidf_xgboost_svm_2.drop('Unnamed: 0',axis=1)\n",
    "\n",
    "tfidf_xgboost_svm_3 = pd.read_csv(RESULTS_PATH+'/tfidf_xgboost_svm_3.csv')\n",
    "tfidf_xgboost_svm_3 = tfidf_xgboost_svm_3.drop('Unnamed: 0',axis=1)"
   ]
  },
  {
   "cell_type": "code",
   "execution_count": 5,
   "id": "4d7b6be1",
   "metadata": {},
   "outputs": [],
   "source": [
    "weight_xgboost_svm_5 = pd.read_csv(RESULTS_PATH+'/weight_xgboost_svm_5.csv')\n",
    "weight_xgboost_svm_5 = weight_xgboost_svm_5.drop('Unnamed: 0',axis=1)\n",
    "\n",
    "weight_xgboost_svm_1 = pd.read_csv(RESULTS_PATH+'/weight_xgboost_svm_1.csv')\n",
    "weight_xgboost_svm_1 = weight_xgboost_svm_1.drop('Unnamed: 0',axis=1)\n",
    "\n",
    "weight_xgboost_svm_2 = pd.read_csv(RESULTS_PATH+'/weight_xgboost_svm_2.csv')\n",
    "weight_xgboost_svm_2 = weight_xgboost_svm_2.drop('Unnamed: 0',axis=1)\n",
    "\n",
    "weight_xgboost_svm_3 = pd.read_csv(RESULTS_PATH+'/weight_xgboost_svm_3.csv')\n",
    "weight_xgboost_svm_3 = weight_xgboost_svm_3.drop('Unnamed: 0',axis=1)"
   ]
  },
  {
   "cell_type": "code",
   "execution_count": 6,
   "id": "9cb2514c",
   "metadata": {},
   "outputs": [],
   "source": [
    "fraction=['baseline','0.05','0.1','0.2','0.3']"
   ]
  },
  {
   "cell_type": "markdown",
   "id": "d141bb04",
   "metadata": {},
   "source": [
    "## Impact of search methods on XGBoost model performance"
   ]
  },
  {
   "cell_type": "code",
   "execution_count": 7,
   "id": "dffa719d",
   "metadata": {},
   "outputs": [],
   "source": [
    "weight_xgboost=[Baseline_xgboost_svm.iloc[0,0],weight_xgboost_svm_5.iloc[0,0],weight_xgboost_svm_1.iloc[0,0],\n",
    "              weight_xgboost_svm_2.iloc[0,0],weight_xgboost_svm_3.iloc[0,0]]"
   ]
  },
  {
   "cell_type": "code",
   "execution_count": 8,
   "id": "fb814702",
   "metadata": {},
   "outputs": [],
   "source": [
    "tfidf_xgboost=[Baseline_xgboost_svm.iloc[0,0],tfidf_xgboost_svm_5.iloc[0,0],tfidf_xgboost_svm_1.iloc[0,0],\n",
    "              tfidf_xgboost_svm_2.iloc[0,0],tfidf_xgboost_svm_3.iloc[0,0]]"
   ]
  },
  {
   "cell_type": "code",
   "execution_count": 9,
   "id": "0fd696a1",
   "metadata": {},
   "outputs": [],
   "source": [
    "Random_xgboost=[Baseline_xgboost_svm.iloc[0,0],Random_xgboost_svm_5.iloc[0,0],Random_xgboost_svm_1.iloc[0,0],\n",
    "              Random_xgboost_svm_2.iloc[0,0],Random_xgboost_svm_3.iloc[0,0]]"
   ]
  },
  {
   "cell_type": "code",
   "execution_count": 10,
   "id": "9864a38e",
   "metadata": {},
   "outputs": [],
   "source": [
    "Search_methods_XGBOOST=pd.DataFrame({'Union Fraction':fraction,\n",
    "                        'Accuracy (weight)':weight_xgboost,\n",
    "                        'Accuracy (tfidf)':tfidf_xgboost,\n",
    "                        'Accuracy (Random)':Random_xgboost})"
   ]
  },
  {
   "cell_type": "code",
   "execution_count": 11,
   "id": "a0da10bc",
   "metadata": {},
   "outputs": [
    {
     "data": {
      "text/html": [
       "<div>\n",
       "<style scoped>\n",
       "    .dataframe tbody tr th:only-of-type {\n",
       "        vertical-align: middle;\n",
       "    }\n",
       "\n",
       "    .dataframe tbody tr th {\n",
       "        vertical-align: top;\n",
       "    }\n",
       "\n",
       "    .dataframe thead th {\n",
       "        text-align: right;\n",
       "    }\n",
       "</style>\n",
       "<table border=\"1\" class=\"dataframe\">\n",
       "  <thead>\n",
       "    <tr style=\"text-align: right;\">\n",
       "      <th></th>\n",
       "      <th>Union Fraction</th>\n",
       "      <th>Accuracy (weight)</th>\n",
       "      <th>Accuracy (tfidf)</th>\n",
       "      <th>Accuracy (Random)</th>\n",
       "    </tr>\n",
       "  </thead>\n",
       "  <tbody>\n",
       "    <tr>\n",
       "      <th>0</th>\n",
       "      <td>baseline</td>\n",
       "      <td>0.8390</td>\n",
       "      <td>0.8390</td>\n",
       "      <td>0.8390</td>\n",
       "    </tr>\n",
       "    <tr>\n",
       "      <th>1</th>\n",
       "      <td>0.05</td>\n",
       "      <td>0.8275</td>\n",
       "      <td>0.8025</td>\n",
       "      <td>0.8320</td>\n",
       "    </tr>\n",
       "    <tr>\n",
       "      <th>2</th>\n",
       "      <td>0.1</td>\n",
       "      <td>0.8015</td>\n",
       "      <td>0.7765</td>\n",
       "      <td>0.8070</td>\n",
       "    </tr>\n",
       "    <tr>\n",
       "      <th>3</th>\n",
       "      <td>0.2</td>\n",
       "      <td>0.8220</td>\n",
       "      <td>0.7430</td>\n",
       "      <td>0.7975</td>\n",
       "    </tr>\n",
       "    <tr>\n",
       "      <th>4</th>\n",
       "      <td>0.3</td>\n",
       "      <td>0.8345</td>\n",
       "      <td>0.7210</td>\n",
       "      <td>0.7950</td>\n",
       "    </tr>\n",
       "  </tbody>\n",
       "</table>\n",
       "</div>"
      ],
      "text/plain": [
       "  Union Fraction  Accuracy (weight)  Accuracy (tfidf)  Accuracy (Random)\n",
       "0       baseline             0.8390            0.8390             0.8390\n",
       "1           0.05             0.8275            0.8025             0.8320\n",
       "2            0.1             0.8015            0.7765             0.8070\n",
       "3            0.2             0.8220            0.7430             0.7975\n",
       "4            0.3             0.8345            0.7210             0.7950"
      ]
     },
     "execution_count": 11,
     "metadata": {},
     "output_type": "execute_result"
    }
   ],
   "source": [
    "Search_methods_XGBOOST"
   ]
  },
  {
   "cell_type": "code",
   "execution_count": 12,
   "id": "3ec07bea",
   "metadata": {},
   "outputs": [],
   "source": [
    "Search_methods_XGBOOST.to_csv(RESULTS_PATH+'/Search_methods_XGBOOST.csv')"
   ]
  },
  {
   "cell_type": "code",
   "execution_count": 13,
   "id": "e1eccd25",
   "metadata": {},
   "outputs": [],
   "source": [
    "weight_xgboost2=weight_xgboost[1:]\n",
    "tfidf_xgboost2=tfidf_xgboost[1:]\n",
    "Random_xgboost2=Random_xgboost[1:]"
   ]
  },
  {
   "cell_type": "code",
   "execution_count": 14,
   "id": "65c013a0",
   "metadata": {},
   "outputs": [
    {
     "data": {
      "image/png": "[encoded data removed]",
      "text/plain": [
       "<Figure size 1080x720 with 1 Axes>"
      ]
     },
     "metadata": {
      "needs_background": "light"
     },
     "output_type": "display_data"
    }
   ],
   "source": [
    "plt.figure(figsize=[15, 10])\n",
    "X = np.arange(len(weight_xgboost2))\n",
    "plt.bar(X, weight_xgboost2, color = 'yellowgreen', width = 0.15)\n",
    "plt.bar(X + 0.15, tfidf_xgboost2, color = 'cornflowerblue', width = 0.15)\n",
    "plt.bar(X + 0.30, Random_xgboost2, color = 'darkred', width = 0.15)\n",
    "plt.legend(['weight','tfidf','random'], fontsize=12)\n",
    "plt.ylabel('Accuracy', fontsize=25)\n",
    "plt.title('Impact of search methods on XGBoost model performance', fontsize=25)\n",
    "plt.xticks([i + 0.2 for i in range(4)], fraction[1:], fontsize=15)\n",
    "plt.semilogy()\n",
    "plt.savefig(IMAGES_PATH+\"/Search_XGBoost.jpg\")"
   ]
  },
  {
   "cell_type": "markdown",
   "id": "6684b1fe",
   "metadata": {},
   "source": [
    "## Impact of search methods on SVM model performance"
   ]
  },
  {
   "cell_type": "code",
   "execution_count": 15,
   "id": "196307fc",
   "metadata": {},
   "outputs": [],
   "source": [
    "weight_svm=[Baseline_xgboost_svm.iloc[1,0],weight_xgboost_svm_5.iloc[1,0],weight_xgboost_svm_1.iloc[1,0],\n",
    "              weight_xgboost_svm_2.iloc[1,0],weight_xgboost_svm_3.iloc[1,0]]"
   ]
  },
  {
   "cell_type": "code",
   "execution_count": 16,
   "id": "61dd9533",
   "metadata": {},
   "outputs": [],
   "source": [
    "tfidf_svm=[Baseline_xgboost_svm.iloc[1,0],tfidf_xgboost_svm_5.iloc[1,0],tfidf_xgboost_svm_1.iloc[1,0],\n",
    "              tfidf_xgboost_svm_2.iloc[1,0],tfidf_xgboost_svm_3.iloc[1,0]]"
   ]
  },
  {
   "cell_type": "code",
   "execution_count": 17,
   "id": "1dc19658",
   "metadata": {},
   "outputs": [],
   "source": [
    "Random_svm=[Baseline_xgboost_svm.iloc[1,0],Random_xgboost_svm_5.iloc[1,0],Random_xgboost_svm_1.iloc[1,0],\n",
    "              Random_xgboost_svm_2.iloc[1,0],Random_xgboost_svm_3.iloc[1,0]]"
   ]
  },
  {
   "cell_type": "code",
   "execution_count": 18,
   "id": "eab9618c",
   "metadata": {},
   "outputs": [],
   "source": [
    "Search_methods_SVM=pd.DataFrame({'Union Fraction':fraction,\n",
    "                        'Accuracy (weight)':weight_svm,\n",
    "                        'Accuracy (tfidf)':tfidf_svm,\n",
    "                        'Accuracy (random)':Random_svm})"
   ]
  },
  {
   "cell_type": "code",
   "execution_count": 19,
   "id": "332eb7a7",
   "metadata": {},
   "outputs": [
    {
     "data": {
      "text/html": [
       "<div>\n",
       "<style scoped>\n",
       "    .dataframe tbody tr th:only-of-type {\n",
       "        vertical-align: middle;\n",
       "    }\n",
       "\n",
       "    .dataframe tbody tr th {\n",
       "        vertical-align: top;\n",
       "    }\n",
       "\n",
       "    .dataframe thead th {\n",
       "        text-align: right;\n",
       "    }\n",
       "</style>\n",
       "<table border=\"1\" class=\"dataframe\">\n",
       "  <thead>\n",
       "    <tr style=\"text-align: right;\">\n",
       "      <th></th>\n",
       "      <th>Union Fraction</th>\n",
       "      <th>Accuracy (weight)</th>\n",
       "      <th>Accuracy (tfidf)</th>\n",
       "      <th>Accuracy (random)</th>\n",
       "    </tr>\n",
       "  </thead>\n",
       "  <tbody>\n",
       "    <tr>\n",
       "      <th>0</th>\n",
       "      <td>baseline</td>\n",
       "      <td>0.8285</td>\n",
       "      <td>0.8285</td>\n",
       "      <td>0.8285</td>\n",
       "    </tr>\n",
       "    <tr>\n",
       "      <th>1</th>\n",
       "      <td>0.05</td>\n",
       "      <td>0.8165</td>\n",
       "      <td>0.7660</td>\n",
       "      <td>0.8200</td>\n",
       "    </tr>\n",
       "    <tr>\n",
       "      <th>2</th>\n",
       "      <td>0.1</td>\n",
       "      <td>0.8120</td>\n",
       "      <td>0.7410</td>\n",
       "      <td>0.8230</td>\n",
       "    </tr>\n",
       "    <tr>\n",
       "      <th>3</th>\n",
       "      <td>0.2</td>\n",
       "      <td>0.8310</td>\n",
       "      <td>0.6800</td>\n",
       "      <td>0.8050</td>\n",
       "    </tr>\n",
       "    <tr>\n",
       "      <th>4</th>\n",
       "      <td>0.3</td>\n",
       "      <td>0.8355</td>\n",
       "      <td>0.6355</td>\n",
       "      <td>0.7735</td>\n",
       "    </tr>\n",
       "  </tbody>\n",
       "</table>\n",
       "</div>"
      ],
      "text/plain": [
       "  Union Fraction  Accuracy (weight)  Accuracy (tfidf)  Accuracy (random)\n",
       "0       baseline             0.8285            0.8285             0.8285\n",
       "1           0.05             0.8165            0.7660             0.8200\n",
       "2            0.1             0.8120            0.7410             0.8230\n",
       "3            0.2             0.8310            0.6800             0.8050\n",
       "4            0.3             0.8355            0.6355             0.7735"
      ]
     },
     "execution_count": 19,
     "metadata": {},
     "output_type": "execute_result"
    }
   ],
   "source": [
    "Search_methods_SVM"
   ]
  },
  {
   "cell_type": "code",
   "execution_count": 20,
   "id": "b870d288",
   "metadata": {},
   "outputs": [],
   "source": [
    "Search_methods_SVM.to_csv(RESULTS_PATH+'/Search_methods_SVM.csv')"
   ]
  },
  {
   "cell_type": "code",
   "execution_count": 21,
   "id": "196bcc0a",
   "metadata": {},
   "outputs": [],
   "source": [
    "weight_svm2=weight_svm[1:]\n",
    "tfidf_svm2=tfidf_svm[1:]\n",
    "Random_svm2=Random_svm[1:]"
   ]
  },
  {
   "cell_type": "code",
   "execution_count": 22,
   "id": "00de5ba7",
   "metadata": {},
   "outputs": [
    {
     "data": {
      "image/png": "[encoded data removed]",
      "text/plain": [
       "<Figure size 1080x720 with 1 Axes>"
      ]
     },
     "metadata": {
      "needs_background": "light"
     },
     "output_type": "display_data"
    }
   ],
   "source": [
    "plt.figure(figsize=[15, 10])\n",
    "X = np.arange(len(weight_svm2))\n",
    "plt.bar(X, weight_svm2, color = 'yellowgreen', width = 0.15)\n",
    "plt.bar(X + 0.15, tfidf_svm2, color = 'cornflowerblue', width = 0.15)\n",
    "plt.bar(X + 0.30, Random_svm2, color = 'darkred', width = 0.15)\n",
    "plt.legend(['weight','tfidf','random'], fontsize=12)\n",
    "plt.ylabel('Accuracy', fontsize=25)\n",
    "plt.title('Impact of search methods on SVM model performance', fontsize=25)\n",
    "plt.xticks([i + 0.2 for i in range(4)], fraction[1:], fontsize=15)\n",
    "plt.semilogy()\n",
    "plt.savefig(IMAGES_PATH+\"/Search_SVM.jpg\")"
   ]
  },
  {
   "cell_type": "markdown",
   "id": "5d29c25f",
   "metadata": {},
   "source": [
    "## Impact of replace methods of the model performance"
   ]
  },
  {
   "cell_type": "code",
   "execution_count": 23,
   "id": "ac48475c",
   "metadata": {},
   "outputs": [],
   "source": [
    "w2v_xgboost_svm_5 = pd.read_csv(RESULTS_PATH+'/w2v_xgboost_svm_5.csv')\n",
    "w2v_xgboost_svm_5 = w2v_xgboost_svm_5.drop('Unnamed: 0',axis=1)"
   ]
  },
  {
   "cell_type": "code",
   "execution_count": 24,
   "id": "1445285e",
   "metadata": {},
   "outputs": [],
   "source": [
    "cfpb_xgboost_svm_5 = pd.read_csv(RESULTS_PATH+'/cfpb_xgboost_svm_5.csv')\n",
    "cfpb_xgboost_svm_5 = cfpb_xgboost_svm_5.drop('Unnamed: 0',axis=1)"
   ]
  },
  {
   "cell_type": "code",
   "execution_count": 25,
   "id": "88077615",
   "metadata": {},
   "outputs": [],
   "source": [
    "Name=['baseline','GloVe','w2v','w2v- CFPB']"
   ]
  },
  {
   "cell_type": "code",
   "execution_count": 26,
   "id": "3760c382",
   "metadata": {},
   "outputs": [],
   "source": [
    "replace_XGBOOST=[Baseline_xgboost_svm.iloc[0,0],Random_xgboost_svm_5.iloc[0,0],\n",
    "                 w2v_xgboost_svm_5.iloc[0,0],cfpb_xgboost_svm_5.iloc[0,0]]"
   ]
  },
  {
   "cell_type": "code",
   "execution_count": 27,
   "id": "ecbed70d",
   "metadata": {},
   "outputs": [],
   "source": [
    "replace_SVM=[Baseline_xgboost_svm.iloc[1,0],Random_xgboost_svm_5.iloc[1,0],\n",
    "                 w2v_xgboost_svm_5.iloc[1,0],cfpb_xgboost_svm_5.iloc[1,0]]"
   ]
  },
  {
   "cell_type": "code",
   "execution_count": 28,
   "id": "c95eaea2",
   "metadata": {},
   "outputs": [],
   "source": [
    "Replace_methods=pd.DataFrame({'Replace Embedding':Name,\n",
    "                        'Accuracy (XGBoost)':replace_XGBOOST,\n",
    "                        'Accuracy (SVM)':replace_SVM})"
   ]
  },
  {
   "cell_type": "code",
   "execution_count": 29,
   "id": "f12f5d4d",
   "metadata": {},
   "outputs": [
    {
     "data": {
      "text/html": [
       "<div>\n",
       "<style scoped>\n",
       "    .dataframe tbody tr th:only-of-type {\n",
       "        vertical-align: middle;\n",
       "    }\n",
       "\n",
       "    .dataframe tbody tr th {\n",
       "        vertical-align: top;\n",
       "    }\n",
       "\n",
       "    .dataframe thead th {\n",
       "        text-align: right;\n",
       "    }\n",
       "</style>\n",
       "<table border=\"1\" class=\"dataframe\">\n",
       "  <thead>\n",
       "    <tr style=\"text-align: right;\">\n",
       "      <th></th>\n",
       "      <th>Replace Embedding</th>\n",
       "      <th>Accuracy (XGBoost)</th>\n",
       "      <th>Accuracy (SVM)</th>\n",
       "    </tr>\n",
       "  </thead>\n",
       "  <tbody>\n",
       "    <tr>\n",
       "      <th>0</th>\n",
       "      <td>baseline</td>\n",
       "      <td>0.8390</td>\n",
       "      <td>0.8285</td>\n",
       "    </tr>\n",
       "    <tr>\n",
       "      <th>1</th>\n",
       "      <td>GloVe</td>\n",
       "      <td>0.8320</td>\n",
       "      <td>0.8200</td>\n",
       "    </tr>\n",
       "    <tr>\n",
       "      <th>2</th>\n",
       "      <td>w2v</td>\n",
       "      <td>0.7830</td>\n",
       "      <td>0.7650</td>\n",
       "    </tr>\n",
       "    <tr>\n",
       "      <th>3</th>\n",
       "      <td>w2v- CFPB</td>\n",
       "      <td>0.8265</td>\n",
       "      <td>0.8070</td>\n",
       "    </tr>\n",
       "  </tbody>\n",
       "</table>\n",
       "</div>"
      ],
      "text/plain": [
       "  Replace Embedding  Accuracy (XGBoost)  Accuracy (SVM)\n",
       "0          baseline              0.8390          0.8285\n",
       "1             GloVe              0.8320          0.8200\n",
       "2               w2v              0.7830          0.7650\n",
       "3         w2v- CFPB              0.8265          0.8070"
      ]
     },
     "execution_count": 29,
     "metadata": {},
     "output_type": "execute_result"
    }
   ],
   "source": [
    "Replace_methods"
   ]
  },
  {
   "cell_type": "code",
   "execution_count": 30,
   "id": "813ba7f9",
   "metadata": {},
   "outputs": [],
   "source": [
    "Replace_methods.to_csv(RESULTS_PATH+'/Replace_methods.csv')"
   ]
  },
  {
   "cell_type": "code",
   "execution_count": 31,
   "id": "e6f59440",
   "metadata": {},
   "outputs": [
    {
     "data": {
      "image/png": "[encoded data removed]",
      "text/plain": [
       "<Figure size 1080x720 with 1 Axes>"
      ]
     },
     "metadata": {
      "needs_background": "light"
     },
     "output_type": "display_data"
    }
   ],
   "source": [
    "plt.figure(figsize=[15, 10])\n",
    "X = np.arange(len(replace_XGBOOST))\n",
    "plt.bar(X, replace_XGBOOST, color = 'steelblue', width = 0.4)\n",
    "plt.bar(X + 0.4, replace_SVM, color = 'coral', width = 0.4)\n",
    "plt.legend(['XGBOOST','SVM'], fontsize=12)\n",
    "plt.ylabel('Accuracy', fontsize=25)\n",
    "plt.title('Impact of replace methods on the model performance', fontsize=25)\n",
    "plt.xticks([i + 0.2 for i in range(4)], Name, fontsize=15)\n",
    "plt.semilogy()\n",
    "plt.savefig(IMAGES_PATH+\"/replace_XGBoost_SVM.jpg\")"
   ]
  }
 ],
 "metadata": {
  "kernelspec": {
   "display_name": "Python 3 (ipykernel)",
   "language": "python",
   "name": "python3"
  },
  "language_info": {
   "codemirror_mode": {
    "name": "ipython",
    "version": 3
   },
   "file_extension": ".py",
   "mimetype": "text/x-python",
   "name": "python",
   "nbconvert_exporter": "python",
   "pygments_lexer": "ipython3",
   "version": "3.9.7"
  }
 },
 "nbformat": 4,
 "nbformat_minor": 5
}
