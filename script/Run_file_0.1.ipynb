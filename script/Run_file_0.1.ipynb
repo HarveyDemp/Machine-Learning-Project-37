{
 "cells": [
  {
   "cell_type": "code",
   "execution_count": 1,
   "id": "67d52aae",
   "metadata": {},
   "outputs": [],
   "source": [
    "fraction=0.1"
   ]
  },
  {
   "cell_type": "code",
   "execution_count": 41,
   "id": "a695c8f3",
   "metadata": {},
   "outputs": [],
   "source": [
    "%run Setup.ipynb"
   ]
  },
  {
   "cell_type": "code",
   "execution_count": 3,
   "id": "bd4ab664",
   "metadata": {},
   "outputs": [],
   "source": [
    "df = pd.read_csv(DATA_PATH+'/df.csv')\n",
    "df=df.drop('Unnamed: 0',axis=1)"
   ]
  },
  {
   "cell_type": "code",
   "execution_count": 4,
   "id": "fa5c81c4",
   "metadata": {},
   "outputs": [
    {
     "data": {
      "text/plain": [
       "((18000,), (2000,))"
      ]
     },
     "execution_count": 4,
     "metadata": {},
     "output_type": "execute_result"
    }
   ],
   "source": [
    "train_corpus, test_corpus, Y_train, Y_test =\\\n",
    "                                 train_test_split(np.array(df['CCN clean']), np.array(df['True Product']), test_size=0.1, random_state=42)\n",
    "\n",
    "train_corpus.shape, test_corpus.shape"
   ]
  },
  {
   "cell_type": "code",
   "execution_count": 5,
   "id": "578c595a",
   "metadata": {},
   "outputs": [
    {
     "name": "stdout",
     "output_type": "stream",
     "text": [
      "TFIDF model:> Train features shape: (18000, 24379)  Test features shape: (2000, 24379)\n"
     ]
    }
   ],
   "source": [
    "tv = TfidfVectorizer(use_idf=True, min_df=0.0, max_df=1.0)\n",
    "tv_train_features = tv.fit_transform(train_corpus)\n",
    "tv_test_features = tv.transform(test_corpus)\n",
    "print('TFIDF model:> Train features shape:', tv_train_features.shape, ' Test features shape:', tv_test_features.shape)"
   ]
  },
  {
   "cell_type": "code",
   "execution_count": 6,
   "id": "231d1a2b",
   "metadata": {},
   "outputs": [
    {
     "name": "stdout",
     "output_type": "stream",
     "text": [
      "Test Accuracy: 0.831\n"
     ]
    }
   ],
   "source": [
    "svm = LinearSVC(penalty='l2', C=1, random_state=42)\n",
    "svm.fit(tv_train_features, Y_train)\n",
    "svm_tfidf_test_score = svm.score(tv_test_features, Y_test)\n",
    "print('Test Accuracy:', svm_tfidf_test_score)\n",
    "#B"
   ]
  },
  {
   "cell_type": "code",
   "execution_count": 7,
   "id": "4a39be18",
   "metadata": {},
   "outputs": [
    {
     "name": "stderr",
     "output_type": "stream",
     "text": [
      "C:\\Users\\Ploru\\anaconda3\\lib\\site-packages\\xgboost\\sklearn.py:1224: UserWarning: The use of label encoder in XGBClassifier is deprecated and will be removed in a future release. To remove this warning, do the following: 1) Pass option use_label_encoder=False when constructing XGBClassifier object; and 2) Encode your labels (y) as integers starting with 0, i.e. 0, 1, 2, ..., [num_class - 1].\n",
      "  warnings.warn(label_encoder_deprecation_msg, UserWarning)\n"
     ]
    },
    {
     "name": "stdout",
     "output_type": "stream",
     "text": [
      "[01:50:01] WARNING: C:/Users/Administrator/workspace/xgboost-win64_release_1.5.1/src/learner.cc:1115: Starting in XGBoost 1.3.0, the default evaluation metric used with the objective 'multi:softprob' was changed from 'merror' to 'mlogloss'. Explicitly set eval_metric if you'd like to restore the old behavior.\n",
      "Test Accuracy: 0.822\n"
     ]
    }
   ],
   "source": [
    "xgboost = xgb.XGBClassifier(min_child_weight=1,\n",
    "                                max_depth=6,\n",
    "                                subsample=1,\n",
    "                                colsample_bytree=1)\n",
    "xgboost.fit(tv_train_features, Y_train)\n",
    "xgboost_tfidf_test_score = xgboost.score(tv_test_features, Y_test)\n",
    "print('Test Accuracy:', xgboost_tfidf_test_score)\n",
    "#A"
   ]
  },
  {
   "cell_type": "markdown",
   "id": "0a2d73ae",
   "metadata": {},
   "source": [
    "Random"
   ]
  },
  {
   "cell_type": "code",
   "execution_count": 8,
   "id": "d393deca",
   "metadata": {},
   "outputs": [],
   "source": [
    "vec=[]\n",
    "for phrase in test_corpus:\n",
    "    vec.append(phrase)"
   ]
  },
  {
   "cell_type": "code",
   "execution_count": 9,
   "id": "f3fee294",
   "metadata": {},
   "outputs": [],
   "source": [
    "listword=[]\n",
    "for phrase in vec:\n",
    "    for word in phrase.split():\n",
    "        listword.append(word)"
   ]
  },
  {
   "cell_type": "code",
   "execution_count": 10,
   "id": "e41471a5",
   "metadata": {},
   "outputs": [],
   "source": [
    "n_srch=round(fraction*len(listword))"
   ]
  },
  {
   "cell_type": "code",
   "execution_count": 11,
   "id": "e88b57fe",
   "metadata": {},
   "outputs": [],
   "source": [
    "to_rep_rand=random.sample(listword,n_srch)\n",
    "to_rep_rand\n",
    "replaced=to_rep_rand.copy()"
   ]
  },
  {
   "cell_type": "markdown",
   "id": "001e4173",
   "metadata": {},
   "source": [
    "Random Glove"
   ]
  },
  {
   "cell_type": "code",
   "execution_count": 12,
   "id": "4fd3de8a",
   "metadata": {},
   "outputs": [],
   "source": [
    "glove_vectors = gensim.downloader.load('glove-twitter-25')"
   ]
  },
  {
   "cell_type": "code",
   "execution_count": 13,
   "id": "841275f4",
   "metadata": {},
   "outputs": [],
   "source": [
    "lol_w2v_test=[]\n",
    "for i in range(len(test_corpus)):\n",
    "    lol_w2v_test.append(nltk.word_tokenize(test_corpus[i]))"
   ]
  },
  {
   "cell_type": "code",
   "execution_count": 14,
   "id": "9bab193c",
   "metadata": {},
   "outputs": [],
   "source": [
    "new_test_rand_glove=test_corpus.copy()"
   ]
  },
  {
   "cell_type": "code",
   "execution_count": 15,
   "id": "e732d1f9",
   "metadata": {
    "scrolled": true
   },
   "outputs": [],
   "source": [
    "for i in range(len(lol_w2v_test)):\n",
    "    n_srch=round(fraction*len(lol_w2v_test[i]))\n",
    "    to_rep_rand=random.sample(lol_w2v_test[i],n_srch)\n",
    "    rand_sims=[]\n",
    "    replaced_rand_glove=[]\n",
    "    for j in range(len(to_rep_rand)):\n",
    "        appoggio_rand=to_rep_rand[j]\n",
    "        try:\n",
    "            rand_sims.append(glove_vectors.most_similar(appoggio_rand,topn=1))\n",
    "        except Exception:\n",
    "            rand_sims.append([(appoggio_rand,1)])\n",
    "        replaced_rand_glove.append(list(rand_sims[j][0])[0])\n",
    "    for f in range(len(replaced_rand_glove)):\n",
    "        try:\n",
    "            new_test_rand_glove[i] = new_test_rand_glove[i].replace(to_rep_rand[f],replaced_rand_glove[f],1)\n",
    "        except Exception:\n",
    "                pass\n",
    "    "
   ]
  },
  {
   "cell_type": "code",
   "execution_count": 32,
   "id": "9861eb29",
   "metadata": {},
   "outputs": [],
   "source": [
    "tv_test_features_rand_glove = tv.transform(new_test_rand_glove)"
   ]
  },
  {
   "cell_type": "code",
   "execution_count": 34,
   "id": "6f3dd33c",
   "metadata": {},
   "outputs": [],
   "source": [
    "pd.DataFrame(tv_test_features_rand_glove).to_csv(RESULTS_PATH+'/test_features_rand_glove_1.csv')"
   ]
  },
  {
   "cell_type": "code",
   "execution_count": 27,
   "id": "7df383c4",
   "metadata": {},
   "outputs": [
    {
     "name": "stdout",
     "output_type": "stream",
     "text": [
      "Test Accuracy: 0.823\n"
     ]
    }
   ],
   "source": [
    "svm = LinearSVC(penalty='l2', C=1, random_state=42)\n",
    "svm.fit(tv_train_features, Y_train)\n",
    "svm_random_1 = svm.score(tv_test_features_rand_glove, Y_test)\n",
    "print('Test Accuracy:', svm_random_1)"
   ]
  },
  {
   "cell_type": "code",
   "execution_count": 28,
   "id": "a62aec7a",
   "metadata": {},
   "outputs": [
    {
     "name": "stderr",
     "output_type": "stream",
     "text": [
      "C:\\Users\\Ploru\\anaconda3\\lib\\site-packages\\xgboost\\sklearn.py:1224: UserWarning: The use of label encoder in XGBClassifier is deprecated and will be removed in a future release. To remove this warning, do the following: 1) Pass option use_label_encoder=False when constructing XGBClassifier object; and 2) Encode your labels (y) as integers starting with 0, i.e. 0, 1, 2, ..., [num_class - 1].\n",
      "  warnings.warn(label_encoder_deprecation_msg, UserWarning)\n"
     ]
    },
    {
     "name": "stdout",
     "output_type": "stream",
     "text": [
      "[03:46:08] WARNING: C:/Users/Administrator/workspace/xgboost-win64_release_1.5.1/src/learner.cc:1115: Starting in XGBoost 1.3.0, the default evaluation metric used with the objective 'multi:softprob' was changed from 'merror' to 'mlogloss'. Explicitly set eval_metric if you'd like to restore the old behavior.\n",
      "Test Accuracy: 0.807\n"
     ]
    }
   ],
   "source": [
    "xgboost = xgb.XGBClassifier(min_child_weight=1,\n",
    "                                max_depth=6,\n",
    "                                subsample=1,\n",
    "                                colsample_bytree=1,random_state=42)\n",
    "xgboost.fit(tv_train_features, Y_train)\n",
    "xgboost_random_1 = xgboost.score(tv_test_features_rand_glove, Y_test)\n",
    "print('Test Accuracy:', xgboost_random_1)"
   ]
  },
  {
   "cell_type": "code",
   "execution_count": 30,
   "id": "a8137ab4",
   "metadata": {},
   "outputs": [
    {
     "data": {
      "text/plain": [
       "[0.807, 0.823]"
      ]
     },
     "execution_count": 30,
     "metadata": {},
     "output_type": "execute_result"
    }
   ],
   "source": [
    "Random_xgboost_svm_1=[xgboost_random_1,svm_random_1]\n",
    "Random_xgboost_svm_1"
   ]
  },
  {
   "cell_type": "code",
   "execution_count": 31,
   "id": "9bd1ac30",
   "metadata": {},
   "outputs": [],
   "source": [
    "pd.DataFrame(Random_xgboost_svm_1).to_csv(RESULTS_PATH+'/Random_xgboost_svm_1.csv')"
   ]
  },
  {
   "cell_type": "markdown",
   "id": "4d44d3e6",
   "metadata": {},
   "source": [
    "TF IDF"
   ]
  },
  {
   "cell_type": "code",
   "execution_count": 19,
   "id": "baea1a29",
   "metadata": {},
   "outputs": [],
   "source": [
    "list1 = test_corpus.tolist()"
   ]
  },
  {
   "cell_type": "code",
   "execution_count": 20,
   "id": "d1fae87e",
   "metadata": {},
   "outputs": [],
   "source": [
    "for i in range(len(list1)):\n",
    "    list1[i]=tb(list1[i])"
   ]
  },
  {
   "cell_type": "code",
   "execution_count": 21,
   "id": "dc21aeba",
   "metadata": {},
   "outputs": [],
   "source": [
    "num_per_doc=[]\n",
    "for i in range(len(test_corpus)):\n",
    "    appoggio=[]\n",
    "    for word in test_corpus[i].split():\n",
    "        appoggio.append(word)\n",
    "    num_per_doc.append(len(appoggio))"
   ]
  },
  {
   "cell_type": "code",
   "execution_count": 22,
   "id": "2063e84e",
   "metadata": {},
   "outputs": [],
   "source": [
    "new_test_tf_glove=test_corpus.copy()"
   ]
  },
  {
   "cell_type": "code",
   "execution_count": 23,
   "id": "441adef5",
   "metadata": {},
   "outputs": [],
   "source": [
    "for i, blob in enumerate(list1):\n",
    "    counter=0\n",
    "    to_rep_tf=[]\n",
    "    scores = {word: tfidf(word, blob, list1) for word in blob.words}\n",
    "    sorted_words = sorted(scores.items(), key=lambda x: x[1], reverse=True)\n",
    "    for s in range(round(num_per_doc[i]*fraction)):\n",
    "        try:\n",
    "            to_rep_tf.append(list(sorted_words[s])[0])\n",
    "        except Exception:\n",
    "            break\n",
    "    tf_sims=[]\n",
    "    for word in range(len(to_rep_tf)):\n",
    "        appoggio=to_rep_tf[word]\n",
    "        try:\n",
    "            tf_sims.append(glove_vectors.most_similar(appoggio,topn=1))\n",
    "        except Exception:\n",
    "            tf_sims.append([(appoggio,1)])\n",
    "    replaced_tf_glove=[]\n",
    "    for word in range(len(tf_sims)):\n",
    "        replaced_tf_glove.append(list(tf_sims[word][0])[0])\n",
    "    for j in range(len(replaced_tf_glove)):\n",
    "        a=0\n",
    "        counter_same_word=0\n",
    "        if to_rep_tf[j]==replaced_tf_glove[j]:\n",
    "            pass\n",
    "        while a!=1:\n",
    "            if to_rep_tf[j] in new_test_tf_glove[i]:\n",
    "                new_test_tf_glove[i] = new_test_tf_glove[i].replace(to_rep_tf[j],replaced_tf_glove[j],1)\n",
    "                counter+=1\n",
    "                counter_same_word+=1\n",
    "            else: \n",
    "                a=1\n",
    "            if counter_same_word==5:\n",
    "                break\n",
    "        if counter== round(num_per_doc[i]*fraction):\n",
    "            break"
   ]
  },
  {
   "cell_type": "code",
   "execution_count": 24,
   "id": "527c511f",
   "metadata": {},
   "outputs": [],
   "source": [
    "tv_test_features_tf_glove = tv.transform(new_test_tf_glove)"
   ]
  },
  {
   "cell_type": "code",
   "execution_count": 35,
   "id": "b9e676c6",
   "metadata": {},
   "outputs": [],
   "source": [
    "pd.DataFrame(tv_test_features_tf_glove).to_csv(RESULTS_PATH+'/test_features_tfidf_1.csv')"
   ]
  },
  {
   "cell_type": "code",
   "execution_count": 37,
   "id": "27e4a047",
   "metadata": {},
   "outputs": [
    {
     "name": "stdout",
     "output_type": "stream",
     "text": [
      "Test Accuracy: 0.741\n"
     ]
    }
   ],
   "source": [
    "svm = LinearSVC(penalty='l2', C=1, random_state=42)\n",
    "svm.fit(tv_train_features, Y_train)\n",
    "svm_tfidf_1 = svm.score(tv_test_features_tf_glove, Y_test)\n",
    "print('Test Accuracy:', svm_tfidf_1)"
   ]
  },
  {
   "cell_type": "code",
   "execution_count": 38,
   "id": "c5a9db55",
   "metadata": {},
   "outputs": [
    {
     "name": "stderr",
     "output_type": "stream",
     "text": [
      "C:\\Users\\Ploru\\anaconda3\\lib\\site-packages\\xgboost\\sklearn.py:1224: UserWarning: The use of label encoder in XGBClassifier is deprecated and will be removed in a future release. To remove this warning, do the following: 1) Pass option use_label_encoder=False when constructing XGBClassifier object; and 2) Encode your labels (y) as integers starting with 0, i.e. 0, 1, 2, ..., [num_class - 1].\n",
      "  warnings.warn(label_encoder_deprecation_msg, UserWarning)\n"
     ]
    },
    {
     "name": "stdout",
     "output_type": "stream",
     "text": [
      "[04:05:29] WARNING: C:/Users/Administrator/workspace/xgboost-win64_release_1.5.1/src/learner.cc:1115: Starting in XGBoost 1.3.0, the default evaluation metric used with the objective 'multi:softprob' was changed from 'merror' to 'mlogloss'. Explicitly set eval_metric if you'd like to restore the old behavior.\n",
      "Test Accuracy: 0.7765\n"
     ]
    }
   ],
   "source": [
    "xgboost = xgb.XGBClassifier(min_child_weight=1,\n",
    "                                max_depth=6,\n",
    "                                subsample=1,\n",
    "                                colsample_bytree=1,random_state=42)\n",
    "xgboost.fit(tv_train_features, Y_train)\n",
    "xgboost_tfidf_1 = xgboost.score(tv_test_features_tf_glove, Y_test)\n",
    "print('Test Accuracy:', xgboost_tfidf_1)"
   ]
  },
  {
   "cell_type": "code",
   "execution_count": 39,
   "id": "843f987c",
   "metadata": {},
   "outputs": [
    {
     "data": {
      "text/plain": [
       "[0.7765, 0.741]"
      ]
     },
     "execution_count": 39,
     "metadata": {},
     "output_type": "execute_result"
    }
   ],
   "source": [
    "tfidf_xgboost_svm_1=[xgboost_tfidf_1,svm_tfidf_1]\n",
    "tfidf_xgboost_svm_1"
   ]
  },
  {
   "cell_type": "code",
   "execution_count": 40,
   "id": "9816f2d7",
   "metadata": {},
   "outputs": [],
   "source": [
    "pd.DataFrame(tfidf_xgboost_svm_1).to_csv(RESULTS_PATH+'/tfidf_xgboost_svm_1.csv')"
   ]
  },
  {
   "cell_type": "markdown",
   "id": "9d2b30cc",
   "metadata": {},
   "source": [
    "Weight based"
   ]
  },
  {
   "cell_type": "code",
   "execution_count": 42,
   "id": "e58fbac8",
   "metadata": {},
   "outputs": [],
   "source": [
    "y = svm.decision_function(tv_test_features)\n",
    "w_norm = np.linalg.norm(svm.coef_)\n",
    "dist = y / w_norm"
   ]
  },
  {
   "cell_type": "code",
   "execution_count": 43,
   "id": "2b12b618",
   "metadata": {},
   "outputs": [],
   "source": [
    "distances= []\n",
    "for i in range(len(dist)):\n",
    "    distances.append(sqdist(dist[i]))"
   ]
  },
  {
   "cell_type": "code",
   "execution_count": 45,
   "id": "867c0ef2",
   "metadata": {},
   "outputs": [],
   "source": [
    "pd_dist=pd.Series(distances)\n",
    "sorted_pd=pd_dist.sort_values()\n"
   ]
  },
  {
   "cell_type": "code",
   "execution_count": 46,
   "id": "b8a77ddd",
   "metadata": {},
   "outputs": [],
   "source": [
    "indexes=[]\n",
    "for i in range(round(len(sorted_pd)*fraction)):\n",
    "    indexes.append(list(sorted_pd.index)[i])"
   ]
  },
  {
   "cell_type": "code",
   "execution_count": 47,
   "id": "45d01d8b",
   "metadata": {},
   "outputs": [],
   "source": [
    "vec=[]\n",
    "for i in range(len(indexes)):\n",
    "    vec.append(test_corpus[indexes[i]])"
   ]
  },
  {
   "cell_type": "code",
   "execution_count": 48,
   "id": "9b96bf2e",
   "metadata": {},
   "outputs": [],
   "source": [
    "new_test_weight_glove=test_corpus.copy()"
   ]
  },
  {
   "cell_type": "code",
   "execution_count": 49,
   "id": "2c694b37",
   "metadata": {},
   "outputs": [],
   "source": [
    "for i in range(len(vec)):\n",
    "    to_rep_weight=[]\n",
    "    weight_sims=[]\n",
    "    for word in vec[i].split():\n",
    "        to_rep_weight.append(word)\n",
    "    replaced_weight_glove=[]\n",
    "    for j in range(len(to_rep_weight)):\n",
    "        appoggio=to_rep_weight[j]\n",
    "        try:\n",
    "            weight_sims.append(glove_vectors.most_similar(appoggio,topn=1))\n",
    "        except Exception:\n",
    "            weight_sims.append([(appoggio,1)])\n",
    "        replaced_weight_glove.append(list(weight_sims[j][0])[0])\n",
    "    for j in range(len(replaced_weight_glove)):\n",
    "        if to_rep_weight[j]==replaced_weight_glove[j]:\n",
    "            pass\n",
    "        try:\n",
    "            new_test_weight_glove[indexes[i]] = listToString(replaced_weight_glove)\n",
    "        except Exception:\n",
    "            pass"
   ]
  },
  {
   "cell_type": "code",
   "execution_count": 50,
   "id": "d04111e8",
   "metadata": {},
   "outputs": [],
   "source": [
    "tv_test_features_weight_glove = tv.transform(new_test_weight_glove)"
   ]
  },
  {
   "cell_type": "code",
   "execution_count": 51,
   "id": "a92b9cf7",
   "metadata": {},
   "outputs": [],
   "source": [
    "pd.DataFrame(tv_test_features_weight_glove).to_csv(RESULTS_PATH+'/test_features_weight_1.csv')"
   ]
  },
  {
   "cell_type": "code",
   "execution_count": 52,
   "id": "f445294c",
   "metadata": {},
   "outputs": [
    {
     "name": "stdout",
     "output_type": "stream",
     "text": [
      "Test Accuracy: 0.812\n"
     ]
    }
   ],
   "source": [
    "svm = LinearSVC(penalty='l2', C=1, random_state=42)\n",
    "svm.fit(tv_train_features, Y_train)\n",
    "svm_weight_1 = svm.score(tv_test_features_weight_glove, Y_test)\n",
    "print('Test Accuracy:', svm_weight_1)"
   ]
  },
  {
   "cell_type": "code",
   "execution_count": 53,
   "id": "8591a74c",
   "metadata": {},
   "outputs": [
    {
     "name": "stderr",
     "output_type": "stream",
     "text": [
      "C:\\Users\\Ploru\\anaconda3\\lib\\site-packages\\xgboost\\sklearn.py:1224: UserWarning: The use of label encoder in XGBClassifier is deprecated and will be removed in a future release. To remove this warning, do the following: 1) Pass option use_label_encoder=False when constructing XGBClassifier object; and 2) Encode your labels (y) as integers starting with 0, i.e. 0, 1, 2, ..., [num_class - 1].\n",
      "  warnings.warn(label_encoder_deprecation_msg, UserWarning)\n"
     ]
    },
    {
     "name": "stdout",
     "output_type": "stream",
     "text": [
      "[05:00:01] WARNING: C:/Users/Administrator/workspace/xgboost-win64_release_1.5.1/src/learner.cc:1115: Starting in XGBoost 1.3.0, the default evaluation metric used with the objective 'multi:softprob' was changed from 'merror' to 'mlogloss'. Explicitly set eval_metric if you'd like to restore the old behavior.\n",
      "Test Accuracy: 0.8015\n"
     ]
    }
   ],
   "source": [
    "xgboost = xgb.XGBClassifier(min_child_weight=1,\n",
    "                                max_depth=6,\n",
    "                                subsample=1,\n",
    "                                colsample_bytree=1,random_state=42)\n",
    "xgboost.fit(tv_train_features, Y_train)\n",
    "xgboost_weight_1 = xgboost.score(tv_test_features_weight_glove, Y_test)\n",
    "print('Test Accuracy:', xgboost_weight_1)"
   ]
  },
  {
   "cell_type": "code",
   "execution_count": 54,
   "id": "bd5438c3",
   "metadata": {},
   "outputs": [
    {
     "data": {
      "text/plain": [
       "[0.8015, 0.812]"
      ]
     },
     "execution_count": 54,
     "metadata": {},
     "output_type": "execute_result"
    }
   ],
   "source": [
    "weight_xgboost_svm_1=[xgboost_weight_1,svm_weight_1]\n",
    "weight_xgboost_svm_1"
   ]
  },
  {
   "cell_type": "code",
   "execution_count": 56,
   "id": "59e4096b",
   "metadata": {},
   "outputs": [],
   "source": [
    "pd.DataFrame(weight_xgboost_svm_1).to_csv(RESULTS_PATH+'/weight_xgboost_svm_1.csv')"
   ]
  },
  {
   "cell_type": "code",
   "execution_count": null,
   "id": "3350fe98",
   "metadata": {},
   "outputs": [],
   "source": []
  }
 ],
 "metadata": {
  "kernelspec": {
   "display_name": "Python 3 (ipykernel)",
   "language": "python",
   "name": "python3"
  },
  "language_info": {
   "codemirror_mode": {
    "name": "ipython",
    "version": 3
   },
   "file_extension": ".py",
   "mimetype": "text/x-python",
   "name": "python",
   "nbconvert_exporter": "python",
   "pygments_lexer": "ipython3",
   "version": "3.9.7"
  }
 },
 "nbformat": 4,
 "nbformat_minor": 5
}
