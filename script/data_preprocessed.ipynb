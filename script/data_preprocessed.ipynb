{
 "cells": [
  {
   "cell_type": "markdown",
   "id": "87a5386f",
   "metadata": {},
   "source": [
    "# Text Preprocessing"
   ]
  },
  {
   "cell_type": "code",
   "execution_count": 13,
   "id": "a29dfa30",
   "metadata": {},
   "outputs": [],
   "source": [
    "%run text_data_preprocessing_steps.ipynb"
   ]
  },
  {
   "cell_type": "code",
   "execution_count": 14,
   "id": "84676b1f",
   "metadata": {},
   "outputs": [],
   "source": [
    "%run Setup.ipynb"
   ]
  },
  {
   "cell_type": "markdown",
   "id": "2773a5f8",
   "metadata": {},
   "source": [
    "We import the dataset from the CFPB official site and we filter the table.\n",
    "We drop the columns we don't need and the complaints (rows) without a narrative text."
   ]
  },
  {
   "cell_type": "code",
   "execution_count": 27,
   "id": "1ac805db",
   "metadata": {},
   "outputs": [
    {
     "name": "stderr",
     "output_type": "stream",
     "text": [
      "/Users/giorgiasacco/opt/anaconda3/lib/python3.9/site-packages/IPython/core/interactiveshell.py:3444: DtypeWarning: Columns (9) have mixed types.Specify dtype option on import or set low_memory=False.\n",
      "  exec(code_obj, self.user_global_ns, self.user_ns)\n"
     ]
    }
   ],
   "source": [
    "data=pd.read_csv(\"complaints.csv\")\n",
    "data.dropna(subset = [\"Consumer complaint narrative\"], inplace=True)\n",
    "df=data.drop(columns=[\"Issue\",\"Sub-issue\",\"Sub-product\",\"Company public response\",\"Company\",\"State\", \"ZIP code\", \"Tags\", \"Consumer consent provided?\", \"Submitted via\", \"Date sent to company\", \"Company response to consumer\", \"Timely response?\", \"Consumer disputed?\", \"Complaint ID\", \"Date received\"])"
   ]
  },
  {
   "cell_type": "markdown",
   "id": "5170ab00",
   "metadata": {},
   "source": [
    " We take a sample of the whole dataset and we preprocess the unstructured text."
   ]
  },
  {
   "cell_type": "code",
   "execution_count": 28,
   "id": "231bc75f",
   "metadata": {},
   "outputs": [],
   "source": [
    "df = df.sample(n=20000,random_state=42)\n",
    "df.reset_index(inplace = True,drop = True)"
   ]
  },
  {
   "cell_type": "markdown",
   "id": "f62514f0",
   "metadata": {},
   "source": [
    "\n",
    "We group the various type of products in four macro-categories"
   ]
  },
  {
   "cell_type": "code",
   "execution_count": 30,
   "id": "10b7b328",
   "metadata": {},
   "outputs": [
    {
     "name": "stderr",
     "output_type": "stream",
     "text": [
      "/var/folders/7p/y66_py89163_svmt16hcqstm0000gn/T/ipykernel_69826/2346509136.py:8: SettingWithCopyWarning: \n",
      "A value is trying to be set on a copy of a slice from a DataFrame\n",
      "\n",
      "See the caveats in the documentation: https://pandas.pydata.org/pandas-docs/stable/user_guide/indexing.html#returning-a-view-versus-a-copy\n",
      "  df[\"True Product\"][i]=\"Credit Reporting or Collection\"\n",
      "/Users/giorgiasacco/opt/anaconda3/lib/python3.9/site-packages/pandas/core/indexing.py:1732: SettingWithCopyWarning: \n",
      "A value is trying to be set on a copy of a slice from a DataFrame\n",
      "\n",
      "See the caveats in the documentation: https://pandas.pydata.org/pandas-docs/stable/user_guide/indexing.html#returning-a-view-versus-a-copy\n",
      "  self._setitem_single_block(indexer, value, name)\n"
     ]
    }
   ],
   "source": [
    "df[\"True Product\"]=np.linspace(0,1,len(df))\n",
    "for i in range(len(df)):\n",
    "    if any(s in df[\"Product\"][i] for s in ('Mortgage', 'Student loan', 'Vehicle loan or lease','Consumer Loan')):\n",
    "        df[\"True Product\"][i]=\"Loan\"\n",
    "    elif any(s in df[\"Product\"][i] for s in ('Virtual currency','Bank account or service','Checking or savings account')):\n",
    "        df[\"True Product\"][i]=\"Account or Service\"    \n",
    "    elif any(s in df[\"Product\"][i] for s in ('Credit reporting','Credit repair services, or other personal consumer reports','Debt collection ')):\n",
    "        df[\"True Product\"][i]=\"Credit Reporting or Collection\"\n",
    "    else : df[\"True Product\"][i]=\"Card\"\n",
    "        "
   ]
  },
  {
   "cell_type": "code",
   "execution_count": 31,
   "id": "b6e09ba2",
   "metadata": {},
   "outputs": [],
   "source": [
    "norm_corpus = preprocess(df['Consumer complaint narrative'], cleaning = True, stemming = False, stem_type = None, \n",
    "                         lemmatization = False, remove_stopwords = False)\n",
    "df['CCN clean'] = norm_corpus"
   ]
  },
  {
   "cell_type": "code",
   "execution_count": 32,
   "id": "98b942c6",
   "metadata": {},
   "outputs": [],
   "source": [
    "df=df.drop(columns=[\"Product\",'Consumer complaint narrative'])"
   ]
  }
 ],
 "metadata": {
  "kernelspec": {
   "display_name": "Python 3 (ipykernel)",
   "language": "python",
   "name": "python3"
  },
  "language_info": {
   "codemirror_mode": {
    "name": "ipython",
    "version": 3
   },
   "file_extension": ".py",
   "mimetype": "text/x-python",
   "name": "python",
   "nbconvert_exporter": "python",
   "pygments_lexer": "ipython3",
   "version": "3.9.7"
  }
 },
 "nbformat": 4,
 "nbformat_minor": 5
}
